{
 "cells": [
  {
   "cell_type": "code",
   "execution_count": 1,
   "id": "919278c3-a86b-453c-af73-7077027e1a1d",
   "metadata": {},
   "outputs": [],
   "source": [
    "# Recipe Autocomplete Project"
   ]
  },
  {
   "cell_type": "code",
   "execution_count": 2,
   "id": "d1812573-9fda-4008-96c2-57f0fb3d4b56",
   "metadata": {},
   "outputs": [],
   "source": [
    "import pandas as pd\n",
    "import re"
   ]
  },
  {
   "cell_type": "code",
   "execution_count": null,
   "id": "6e15a31e-e7a4-4d06-8c75-3a3768ea9d95",
   "metadata": {},
   "outputs": [],
   "source": [
    "# Load the dataset\n",
    "df = pd.read_csv('full_dataset.csv', usecols=[0:5])\n"
   ]
  },
  {
   "cell_type": "code",
   "execution_count": 4,
   "id": "e82e97a9-e612-40d7-bd9d-05b745f20c86",
   "metadata": {},
   "outputs": [
    {
     "data": {
      "text/html": [
       "<div>\n",
       "<style scoped>\n",
       "    .dataframe tbody tr th:only-of-type {\n",
       "        vertical-align: middle;\n",
       "    }\n",
       "\n",
       "    .dataframe tbody tr th {\n",
       "        vertical-align: top;\n",
       "    }\n",
       "\n",
       "    .dataframe thead th {\n",
       "        text-align: right;\n",
       "    }\n",
       "</style>\n",
       "<table border=\"1\" class=\"dataframe\">\n",
       "  <thead>\n",
       "    <tr style=\"text-align: right;\">\n",
       "      <th></th>\n",
       "      <th>Unnamed: 0</th>\n",
       "      <th>title</th>\n",
       "      <th>ingredients</th>\n",
       "      <th>directions</th>\n",
       "      <th>link</th>\n",
       "      <th>source</th>\n",
       "      <th>NER</th>\n",
       "    </tr>\n",
       "  </thead>\n",
       "  <tbody>\n",
       "    <tr>\n",
       "      <th>1819667</th>\n",
       "      <td>1819667</td>\n",
       "      <td>Southwest Beef Shells</td>\n",
       "      <td>[\"1 lb ground beef round\", \"1 teaspoon vegetab...</td>\n",
       "      <td>[\"Cook shells in 3 qts.\", \"boiling water for 1...</td>\n",
       "      <td>www.food.com/recipe/southwest-beef-shells-304193</td>\n",
       "      <td>Recipes1M</td>\n",
       "      <td>[\"ground beef\", \"vegetable oil\", \"fresh cilant...</td>\n",
       "    </tr>\n",
       "    <tr>\n",
       "      <th>1202487</th>\n",
       "      <td>1202487</td>\n",
       "      <td>Uncle Bill'S Breaded Pork Loin Chops In Mushro...</td>\n",
       "      <td>[\"1 large egg\", \"2 tablespoons cold water\", \"1...</td>\n",
       "      <td>[\"Preheat oven to 350\\u00b0F.\", \"In a mixing b...</td>\n",
       "      <td>www.food.com/recipe/uncle-bills-breaded-pork-l...</td>\n",
       "      <td>Gathered</td>\n",
       "      <td>[\"egg\", \"cold water\", \"bread crumbs\", \"pork lo...</td>\n",
       "    </tr>\n",
       "    <tr>\n",
       "      <th>1842214</th>\n",
       "      <td>1842214</td>\n",
       "      <td>Warm Pumpkin Spinach and Feta Salad</td>\n",
       "      <td>[\"12 medium butternut pumpkin, peeled,deseeded...</td>\n",
       "      <td>[\"Cook the pumpkin in boiling salted water for...</td>\n",
       "      <td>www.food.com/recipe/warm-pumpkin-spinach-and-f...</td>\n",
       "      <td>Recipes1M</td>\n",
       "      <td>[\"butternut pumpkin\", \"olive oil\", \"nuts\", \"re...</td>\n",
       "    </tr>\n",
       "    <tr>\n",
       "      <th>1771436</th>\n",
       "      <td>1771436</td>\n",
       "      <td>Baba Ghanoush Recipe</td>\n",
       "      <td>[\"2 med Eggplant, whole\", \"2 Tbsp. Lemon juice...</td>\n",
       "      <td>[\"Pierce the eggplants and roast, whole, in a ...</td>\n",
       "      <td>cookeatshare.com/recipes/baba-ghanoush-72751</td>\n",
       "      <td>Recipes1M</td>\n",
       "      <td>[\"Eggplant\", \"Lemon juice\", \"garlic\", \"Tahini\"...</td>\n",
       "    </tr>\n",
       "    <tr>\n",
       "      <th>427660</th>\n",
       "      <td>427660</td>\n",
       "      <td>Crescent Rolls</td>\n",
       "      <td>[\"3 1/2 to 3 3/4 c. flour\", \"1/4 c. sugar\", \"1...</td>\n",
       "      <td>[\"Mix 2 cups flour, sugar, shortening, salt an...</td>\n",
       "      <td>www.cookbooks.com/Recipe-Details.aspx?id=238732</td>\n",
       "      <td>Gathered</td>\n",
       "      <td>[\"flour\", \"sugar\", \"shortening\", \"salt\", \"yeas...</td>\n",
       "    </tr>\n",
       "  </tbody>\n",
       "</table>\n",
       "</div>"
      ],
      "text/plain": [
       "         Unnamed: 0                                              title  \\\n",
       "1819667     1819667                              Southwest Beef Shells   \n",
       "1202487     1202487  Uncle Bill'S Breaded Pork Loin Chops In Mushro...   \n",
       "1842214     1842214                Warm Pumpkin Spinach and Feta Salad   \n",
       "1771436     1771436                               Baba Ghanoush Recipe   \n",
       "427660       427660                                     Crescent Rolls   \n",
       "\n",
       "                                               ingredients  \\\n",
       "1819667  [\"1 lb ground beef round\", \"1 teaspoon vegetab...   \n",
       "1202487  [\"1 large egg\", \"2 tablespoons cold water\", \"1...   \n",
       "1842214  [\"12 medium butternut pumpkin, peeled,deseeded...   \n",
       "1771436  [\"2 med Eggplant, whole\", \"2 Tbsp. Lemon juice...   \n",
       "427660   [\"3 1/2 to 3 3/4 c. flour\", \"1/4 c. sugar\", \"1...   \n",
       "\n",
       "                                                directions  \\\n",
       "1819667  [\"Cook shells in 3 qts.\", \"boiling water for 1...   \n",
       "1202487  [\"Preheat oven to 350\\u00b0F.\", \"In a mixing b...   \n",
       "1842214  [\"Cook the pumpkin in boiling salted water for...   \n",
       "1771436  [\"Pierce the eggplants and roast, whole, in a ...   \n",
       "427660   [\"Mix 2 cups flour, sugar, shortening, salt an...   \n",
       "\n",
       "                                                      link     source  \\\n",
       "1819667   www.food.com/recipe/southwest-beef-shells-304193  Recipes1M   \n",
       "1202487  www.food.com/recipe/uncle-bills-breaded-pork-l...   Gathered   \n",
       "1842214  www.food.com/recipe/warm-pumpkin-spinach-and-f...  Recipes1M   \n",
       "1771436       cookeatshare.com/recipes/baba-ghanoush-72751  Recipes1M   \n",
       "427660     www.cookbooks.com/Recipe-Details.aspx?id=238732   Gathered   \n",
       "\n",
       "                                                       NER  \n",
       "1819667  [\"ground beef\", \"vegetable oil\", \"fresh cilant...  \n",
       "1202487  [\"egg\", \"cold water\", \"bread crumbs\", \"pork lo...  \n",
       "1842214  [\"butternut pumpkin\", \"olive oil\", \"nuts\", \"re...  \n",
       "1771436  [\"Eggplant\", \"Lemon juice\", \"garlic\", \"Tahini\"...  \n",
       "427660   [\"flour\", \"sugar\", \"shortening\", \"salt\", \"yeas...  "
      ]
     },
     "execution_count": 4,
     "metadata": {},
     "output_type": "execute_result"
    }
   ],
   "source": [
    "df.sample(5)  # Display 5 random rows"
   ]
  },
  {
   "cell_type": "code",
   "execution_count": 5,
   "id": "ab563ee8-782a-46e9-b4dd-45da15303f30",
   "metadata": {},
   "outputs": [
    {
     "name": "stdout",
     "output_type": "stream",
     "text": [
      "Recipe 1\n",
      "Title: No-Bake Nut Cookies\n",
      "Ingredients: [\"1 c. firmly packed brown sugar\", \"1/2 c. evaporated milk\", \"1/2 tsp. vanilla\", \"1/2 c. broken nuts (pecans)\", \"2 Tbsp. butter or margarine\", \"3 1/2 c. bite size shredded rice biscuits\"]\n",
      "Directions: [\"In a heavy 2-quart saucepan, mix brown sugar, nuts, evaporated milk and butter or margarine.\", \"Stir over medium heat until mixture bubbles all over top.\", \"Boil and stir 5 minutes more. Take off heat.\", \"Stir in vanilla and cereal; mix well.\", \"Using 2 teaspoons, drop and shape into 30 clusters on wax paper.\", \"Let stand until firm, about 30 minutes.\"]\n",
      "\n",
      "--------------------------------------------------\n",
      "\n",
      "Recipe 2\n",
      "Title: Jewell Ball'S Chicken\n",
      "Ingredients: [\"1 small jar chipped beef, cut up\", \"4 boned chicken breasts\", \"1 can cream of mushroom soup\", \"1 carton sour cream\"]\n",
      "Directions: [\"Place chipped beef on bottom of baking dish.\", \"Place chicken on top of beef.\", \"Mix soup and cream together; pour over chicken. Bake, uncovered, at 275\\u00b0 for 3 hours.\"]\n",
      "\n",
      "--------------------------------------------------\n",
      "\n",
      "Recipe 3\n",
      "Title: Creamy Corn\n",
      "Ingredients: [\"2 (16 oz.) pkg. frozen corn\", \"1 (8 oz.) pkg. cream cheese, cubed\", \"1/3 c. butter, cubed\", \"1/2 tsp. garlic powder\", \"1/2 tsp. salt\", \"1/4 tsp. pepper\"]\n",
      "Directions: [\"In a slow cooker, combine all ingredients. Cover and cook on low for 4 hours or until heated through and cheese is melted. Stir well before serving. Yields 6 servings.\"]\n",
      "\n",
      "--------------------------------------------------\n",
      "\n",
      "Recipe 4\n",
      "Title: Chicken Funny\n",
      "Ingredients: [\"1 large whole chicken\", \"2 (10 1/2 oz.) cans chicken gravy\", \"1 (10 1/2 oz.) can cream of mushroom soup\", \"1 (6 oz.) box Stove Top stuffing\", \"4 oz. shredded cheese\"]\n",
      "Directions: [\"Boil and debone chicken.\", \"Put bite size pieces in average size square casserole dish.\", \"Pour gravy and cream of mushroom soup over chicken; level.\", \"Make stuffing according to instructions on box (do not make too moist).\", \"Put stuffing on top of chicken and gravy; level.\", \"Sprinkle shredded cheese on top and bake at 350\\u00b0 for approximately 20 minutes or until golden and bubbly.\"]\n",
      "\n",
      "--------------------------------------------------\n",
      "\n",
      "Recipe 5\n",
      "Title: Reeses Cups(Candy)  \n",
      "Ingredients: [\"1 c. peanut butter\", \"3/4 c. graham cracker crumbs\", \"1 c. melted butter\", \"1 lb. (3 1/2 c.) powdered sugar\", \"1 large pkg. chocolate chips\"]\n",
      "Directions: [\"Combine first four ingredients and press in 13 x 9-inch ungreased pan.\", \"Melt chocolate chips and spread over mixture. Refrigerate for about 20 minutes and cut into pieces before chocolate gets hard.\", \"Keep in refrigerator.\"]\n",
      "\n",
      "--------------------------------------------------\n",
      "\n"
     ]
    }
   ],
   "source": [
    "for i in range(5):  # Adjust range to view more entries if needed\n",
    "    print(f\"Recipe {i + 1}\")\n",
    "    print(\"Title:\", df['title'].iloc[i])\n",
    "    print(\"Ingredients:\", df['ingredients'].iloc[i])\n",
    "    print(\"Directions:\", df['directions'].iloc[i])\n",
    "    print(\"\\n\" + \"-\"*50 + \"\\n\")\n"
   ]
  },
  {
   "cell_type": "code",
   "execution_count": 6,
   "id": "214b754f-f150-4c25-bf84-ae157ef6c0b0",
   "metadata": {},
   "outputs": [],
   "source": [
    "#Cleaning and Preprocessing Data"
   ]
  },
  {
   "cell_type": "code",
   "execution_count": 7,
   "id": "1c9206ae-afbe-4e72-82d5-e3aa7320ed8e",
   "metadata": {},
   "outputs": [],
   "source": [
    "#Convert Ingredients and Directions to Text: If they are in list format, convert each list item to a single text string."
   ]
  },
  {
   "cell_type": "code",
   "execution_count": 8,
   "id": "178fa0f7-46cf-456a-be48-8eef86e81c3b",
   "metadata": {},
   "outputs": [],
   "source": [
    "df['ingredients'] = df['ingredients'].apply(lambda x: ' '.join(eval(x)) if isinstance(x, str) else x)\n",
    "df['directions'] = df['directions'].apply(lambda x: ' '.join(eval(x)) if isinstance(x, str) else x)\n"
   ]
  },
  {
   "cell_type": "code",
   "execution_count": 9,
   "id": "75c308fc-4524-4f7e-9587-795ece52e8bf",
   "metadata": {},
   "outputs": [],
   "source": [
    "df = df[['title', 'ingredients', 'directions']]\n"
   ]
  },
  {
   "cell_type": "code",
   "execution_count": 10,
   "id": "6adce642-b959-4284-ac71-47567eb62df8",
   "metadata": {},
   "outputs": [
    {
     "ename": "Error",
     "evalue": "need to escape, but no escapechar set",
     "output_type": "error",
     "traceback": [
      "\u001b[1;31m---------------------------------------------------------------------------\u001b[0m",
      "\u001b[1;31mError\u001b[0m                                     Traceback (most recent call last)",
      "Cell \u001b[1;32mIn[10], line 1\u001b[0m\n\u001b[1;32m----> 1\u001b[0m \u001b[43mdf\u001b[49m\u001b[38;5;241;43m.\u001b[39;49m\u001b[43mto_csv\u001b[49m\u001b[43m(\u001b[49m\u001b[38;5;124;43m'\u001b[39;49m\u001b[38;5;124;43mcleaned_recipe_data.csv\u001b[39;49m\u001b[38;5;124;43m'\u001b[39;49m\u001b[43m,\u001b[49m\u001b[43m \u001b[49m\u001b[43mindex\u001b[49m\u001b[38;5;241;43m=\u001b[39;49m\u001b[38;5;28;43;01mFalse\u001b[39;49;00m\u001b[43m)\u001b[49m\n",
      "File \u001b[1;32mc:\\Users\\Antoine\\miniconda3\\envs\\ML\\lib\\site-packages\\pandas\\util\\_decorators.py:211\u001b[0m, in \u001b[0;36mdeprecate_kwarg.<locals>._deprecate_kwarg.<locals>.wrapper\u001b[1;34m(*args, **kwargs)\u001b[0m\n\u001b[0;32m    209\u001b[0m     \u001b[38;5;28;01melse\u001b[39;00m:\n\u001b[0;32m    210\u001b[0m         kwargs[new_arg_name] \u001b[38;5;241m=\u001b[39m new_arg_value\n\u001b[1;32m--> 211\u001b[0m \u001b[38;5;28;01mreturn\u001b[39;00m func(\u001b[38;5;241m*\u001b[39margs, \u001b[38;5;241m*\u001b[39m\u001b[38;5;241m*\u001b[39mkwargs)\n",
      "File \u001b[1;32mc:\\Users\\Antoine\\miniconda3\\envs\\ML\\lib\\site-packages\\pandas\\core\\generic.py:3720\u001b[0m, in \u001b[0;36mNDFrame.to_csv\u001b[1;34m(self, path_or_buf, sep, na_rep, float_format, columns, header, index, index_label, mode, encoding, compression, quoting, quotechar, lineterminator, chunksize, date_format, doublequote, escapechar, decimal, errors, storage_options)\u001b[0m\n\u001b[0;32m   3709\u001b[0m df \u001b[38;5;241m=\u001b[39m \u001b[38;5;28mself\u001b[39m \u001b[38;5;28;01mif\u001b[39;00m \u001b[38;5;28misinstance\u001b[39m(\u001b[38;5;28mself\u001b[39m, ABCDataFrame) \u001b[38;5;28;01melse\u001b[39;00m \u001b[38;5;28mself\u001b[39m\u001b[38;5;241m.\u001b[39mto_frame()\n\u001b[0;32m   3711\u001b[0m formatter \u001b[38;5;241m=\u001b[39m DataFrameFormatter(\n\u001b[0;32m   3712\u001b[0m     frame\u001b[38;5;241m=\u001b[39mdf,\n\u001b[0;32m   3713\u001b[0m     header\u001b[38;5;241m=\u001b[39mheader,\n\u001b[1;32m   (...)\u001b[0m\n\u001b[0;32m   3717\u001b[0m     decimal\u001b[38;5;241m=\u001b[39mdecimal,\n\u001b[0;32m   3718\u001b[0m )\n\u001b[1;32m-> 3720\u001b[0m \u001b[38;5;28;01mreturn\u001b[39;00m \u001b[43mDataFrameRenderer\u001b[49m\u001b[43m(\u001b[49m\u001b[43mformatter\u001b[49m\u001b[43m)\u001b[49m\u001b[38;5;241;43m.\u001b[39;49m\u001b[43mto_csv\u001b[49m\u001b[43m(\u001b[49m\n\u001b[0;32m   3721\u001b[0m \u001b[43m    \u001b[49m\u001b[43mpath_or_buf\u001b[49m\u001b[43m,\u001b[49m\n\u001b[0;32m   3722\u001b[0m \u001b[43m    \u001b[49m\u001b[43mlineterminator\u001b[49m\u001b[38;5;241;43m=\u001b[39;49m\u001b[43mlineterminator\u001b[49m\u001b[43m,\u001b[49m\n\u001b[0;32m   3723\u001b[0m \u001b[43m    \u001b[49m\u001b[43msep\u001b[49m\u001b[38;5;241;43m=\u001b[39;49m\u001b[43msep\u001b[49m\u001b[43m,\u001b[49m\n\u001b[0;32m   3724\u001b[0m \u001b[43m    \u001b[49m\u001b[43mencoding\u001b[49m\u001b[38;5;241;43m=\u001b[39;49m\u001b[43mencoding\u001b[49m\u001b[43m,\u001b[49m\n\u001b[0;32m   3725\u001b[0m \u001b[43m    \u001b[49m\u001b[43merrors\u001b[49m\u001b[38;5;241;43m=\u001b[39;49m\u001b[43merrors\u001b[49m\u001b[43m,\u001b[49m\n\u001b[0;32m   3726\u001b[0m \u001b[43m    \u001b[49m\u001b[43mcompression\u001b[49m\u001b[38;5;241;43m=\u001b[39;49m\u001b[43mcompression\u001b[49m\u001b[43m,\u001b[49m\n\u001b[0;32m   3727\u001b[0m \u001b[43m    \u001b[49m\u001b[43mquoting\u001b[49m\u001b[38;5;241;43m=\u001b[39;49m\u001b[43mquoting\u001b[49m\u001b[43m,\u001b[49m\n\u001b[0;32m   3728\u001b[0m \u001b[43m    \u001b[49m\u001b[43mcolumns\u001b[49m\u001b[38;5;241;43m=\u001b[39;49m\u001b[43mcolumns\u001b[49m\u001b[43m,\u001b[49m\n\u001b[0;32m   3729\u001b[0m \u001b[43m    \u001b[49m\u001b[43mindex_label\u001b[49m\u001b[38;5;241;43m=\u001b[39;49m\u001b[43mindex_label\u001b[49m\u001b[43m,\u001b[49m\n\u001b[0;32m   3730\u001b[0m \u001b[43m    \u001b[49m\u001b[43mmode\u001b[49m\u001b[38;5;241;43m=\u001b[39;49m\u001b[43mmode\u001b[49m\u001b[43m,\u001b[49m\n\u001b[0;32m   3731\u001b[0m \u001b[43m    \u001b[49m\u001b[43mchunksize\u001b[49m\u001b[38;5;241;43m=\u001b[39;49m\u001b[43mchunksize\u001b[49m\u001b[43m,\u001b[49m\n\u001b[0;32m   3732\u001b[0m \u001b[43m    \u001b[49m\u001b[43mquotechar\u001b[49m\u001b[38;5;241;43m=\u001b[39;49m\u001b[43mquotechar\u001b[49m\u001b[43m,\u001b[49m\n\u001b[0;32m   3733\u001b[0m \u001b[43m    \u001b[49m\u001b[43mdate_format\u001b[49m\u001b[38;5;241;43m=\u001b[39;49m\u001b[43mdate_format\u001b[49m\u001b[43m,\u001b[49m\n\u001b[0;32m   3734\u001b[0m \u001b[43m    \u001b[49m\u001b[43mdoublequote\u001b[49m\u001b[38;5;241;43m=\u001b[39;49m\u001b[43mdoublequote\u001b[49m\u001b[43m,\u001b[49m\n\u001b[0;32m   3735\u001b[0m \u001b[43m    \u001b[49m\u001b[43mescapechar\u001b[49m\u001b[38;5;241;43m=\u001b[39;49m\u001b[43mescapechar\u001b[49m\u001b[43m,\u001b[49m\n\u001b[0;32m   3736\u001b[0m \u001b[43m    \u001b[49m\u001b[43mstorage_options\u001b[49m\u001b[38;5;241;43m=\u001b[39;49m\u001b[43mstorage_options\u001b[49m\u001b[43m,\u001b[49m\n\u001b[0;32m   3737\u001b[0m \u001b[43m\u001b[49m\u001b[43m)\u001b[49m\n",
      "File \u001b[1;32mc:\\Users\\Antoine\\miniconda3\\envs\\ML\\lib\\site-packages\\pandas\\util\\_decorators.py:211\u001b[0m, in \u001b[0;36mdeprecate_kwarg.<locals>._deprecate_kwarg.<locals>.wrapper\u001b[1;34m(*args, **kwargs)\u001b[0m\n\u001b[0;32m    209\u001b[0m     \u001b[38;5;28;01melse\u001b[39;00m:\n\u001b[0;32m    210\u001b[0m         kwargs[new_arg_name] \u001b[38;5;241m=\u001b[39m new_arg_value\n\u001b[1;32m--> 211\u001b[0m \u001b[38;5;28;01mreturn\u001b[39;00m func(\u001b[38;5;241m*\u001b[39margs, \u001b[38;5;241m*\u001b[39m\u001b[38;5;241m*\u001b[39mkwargs)\n",
      "File \u001b[1;32mc:\\Users\\Antoine\\miniconda3\\envs\\ML\\lib\\site-packages\\pandas\\io\\formats\\format.py:1189\u001b[0m, in \u001b[0;36mDataFrameRenderer.to_csv\u001b[1;34m(self, path_or_buf, encoding, sep, columns, index_label, mode, compression, quoting, quotechar, lineterminator, chunksize, date_format, doublequote, escapechar, errors, storage_options)\u001b[0m\n\u001b[0;32m   1168\u001b[0m     created_buffer \u001b[38;5;241m=\u001b[39m \u001b[38;5;28;01mFalse\u001b[39;00m\n\u001b[0;32m   1170\u001b[0m csv_formatter \u001b[38;5;241m=\u001b[39m CSVFormatter(\n\u001b[0;32m   1171\u001b[0m     path_or_buf\u001b[38;5;241m=\u001b[39mpath_or_buf,\n\u001b[0;32m   1172\u001b[0m     lineterminator\u001b[38;5;241m=\u001b[39mlineterminator,\n\u001b[1;32m   (...)\u001b[0m\n\u001b[0;32m   1187\u001b[0m     formatter\u001b[38;5;241m=\u001b[39m\u001b[38;5;28mself\u001b[39m\u001b[38;5;241m.\u001b[39mfmt,\n\u001b[0;32m   1188\u001b[0m )\n\u001b[1;32m-> 1189\u001b[0m \u001b[43mcsv_formatter\u001b[49m\u001b[38;5;241;43m.\u001b[39;49m\u001b[43msave\u001b[49m\u001b[43m(\u001b[49m\u001b[43m)\u001b[49m\n\u001b[0;32m   1191\u001b[0m \u001b[38;5;28;01mif\u001b[39;00m created_buffer:\n\u001b[0;32m   1192\u001b[0m     \u001b[38;5;28;01massert\u001b[39;00m \u001b[38;5;28misinstance\u001b[39m(path_or_buf, StringIO)\n",
      "File \u001b[1;32mc:\\Users\\Antoine\\miniconda3\\envs\\ML\\lib\\site-packages\\pandas\\io\\formats\\csvs.py:261\u001b[0m, in \u001b[0;36mCSVFormatter.save\u001b[1;34m(self)\u001b[0m\n\u001b[0;32m    241\u001b[0m \u001b[38;5;28;01mwith\u001b[39;00m get_handle(\n\u001b[0;32m    242\u001b[0m     \u001b[38;5;28mself\u001b[39m\u001b[38;5;241m.\u001b[39mfilepath_or_buffer,\n\u001b[0;32m    243\u001b[0m     \u001b[38;5;28mself\u001b[39m\u001b[38;5;241m.\u001b[39mmode,\n\u001b[1;32m   (...)\u001b[0m\n\u001b[0;32m    249\u001b[0m \n\u001b[0;32m    250\u001b[0m     \u001b[38;5;66;03m# Note: self.encoding is irrelevant here\u001b[39;00m\n\u001b[0;32m    251\u001b[0m     \u001b[38;5;28mself\u001b[39m\u001b[38;5;241m.\u001b[39mwriter \u001b[38;5;241m=\u001b[39m csvlib\u001b[38;5;241m.\u001b[39mwriter(\n\u001b[0;32m    252\u001b[0m         handles\u001b[38;5;241m.\u001b[39mhandle,\n\u001b[0;32m    253\u001b[0m         lineterminator\u001b[38;5;241m=\u001b[39m\u001b[38;5;28mself\u001b[39m\u001b[38;5;241m.\u001b[39mlineterminator,\n\u001b[1;32m   (...)\u001b[0m\n\u001b[0;32m    258\u001b[0m         quotechar\u001b[38;5;241m=\u001b[39m\u001b[38;5;28mself\u001b[39m\u001b[38;5;241m.\u001b[39mquotechar,\n\u001b[0;32m    259\u001b[0m     )\n\u001b[1;32m--> 261\u001b[0m     \u001b[38;5;28;43mself\u001b[39;49m\u001b[38;5;241;43m.\u001b[39;49m\u001b[43m_save\u001b[49m\u001b[43m(\u001b[49m\u001b[43m)\u001b[49m\n",
      "File \u001b[1;32mc:\\Users\\Antoine\\miniconda3\\envs\\ML\\lib\\site-packages\\pandas\\io\\formats\\csvs.py:266\u001b[0m, in \u001b[0;36mCSVFormatter._save\u001b[1;34m(self)\u001b[0m\n\u001b[0;32m    264\u001b[0m \u001b[38;5;28;01mif\u001b[39;00m \u001b[38;5;28mself\u001b[39m\u001b[38;5;241m.\u001b[39m_need_to_save_header:\n\u001b[0;32m    265\u001b[0m     \u001b[38;5;28mself\u001b[39m\u001b[38;5;241m.\u001b[39m_save_header()\n\u001b[1;32m--> 266\u001b[0m \u001b[38;5;28;43mself\u001b[39;49m\u001b[38;5;241;43m.\u001b[39;49m\u001b[43m_save_body\u001b[49m\u001b[43m(\u001b[49m\u001b[43m)\u001b[49m\n",
      "File \u001b[1;32mc:\\Users\\Antoine\\miniconda3\\envs\\ML\\lib\\site-packages\\pandas\\io\\formats\\csvs.py:304\u001b[0m, in \u001b[0;36mCSVFormatter._save_body\u001b[1;34m(self)\u001b[0m\n\u001b[0;32m    302\u001b[0m \u001b[38;5;28;01mif\u001b[39;00m start_i \u001b[38;5;241m>\u001b[39m\u001b[38;5;241m=\u001b[39m end_i:\n\u001b[0;32m    303\u001b[0m     \u001b[38;5;28;01mbreak\u001b[39;00m\n\u001b[1;32m--> 304\u001b[0m \u001b[38;5;28;43mself\u001b[39;49m\u001b[38;5;241;43m.\u001b[39;49m\u001b[43m_save_chunk\u001b[49m\u001b[43m(\u001b[49m\u001b[43mstart_i\u001b[49m\u001b[43m,\u001b[49m\u001b[43m \u001b[49m\u001b[43mend_i\u001b[49m\u001b[43m)\u001b[49m\n",
      "File \u001b[1;32mc:\\Users\\Antoine\\miniconda3\\envs\\ML\\lib\\site-packages\\pandas\\io\\formats\\csvs.py:315\u001b[0m, in \u001b[0;36mCSVFormatter._save_chunk\u001b[1;34m(self, start_i, end_i)\u001b[0m\n\u001b[0;32m    312\u001b[0m data \u001b[38;5;241m=\u001b[39m [res\u001b[38;5;241m.\u001b[39miget_values(i) \u001b[38;5;28;01mfor\u001b[39;00m i \u001b[38;5;129;01min\u001b[39;00m \u001b[38;5;28mrange\u001b[39m(\u001b[38;5;28mlen\u001b[39m(res\u001b[38;5;241m.\u001b[39mitems))]\n\u001b[0;32m    314\u001b[0m ix \u001b[38;5;241m=\u001b[39m \u001b[38;5;28mself\u001b[39m\u001b[38;5;241m.\u001b[39mdata_index[slicer]\u001b[38;5;241m.\u001b[39m_format_native_types(\u001b[38;5;241m*\u001b[39m\u001b[38;5;241m*\u001b[39m\u001b[38;5;28mself\u001b[39m\u001b[38;5;241m.\u001b[39m_number_format)\n\u001b[1;32m--> 315\u001b[0m \u001b[43mlibwriters\u001b[49m\u001b[38;5;241;43m.\u001b[39;49m\u001b[43mwrite_csv_rows\u001b[49m\u001b[43m(\u001b[49m\n\u001b[0;32m    316\u001b[0m \u001b[43m    \u001b[49m\u001b[43mdata\u001b[49m\u001b[43m,\u001b[49m\n\u001b[0;32m    317\u001b[0m \u001b[43m    \u001b[49m\u001b[43mix\u001b[49m\u001b[43m,\u001b[49m\n\u001b[0;32m    318\u001b[0m \u001b[43m    \u001b[49m\u001b[38;5;28;43mself\u001b[39;49m\u001b[38;5;241;43m.\u001b[39;49m\u001b[43mnlevels\u001b[49m\u001b[43m,\u001b[49m\n\u001b[0;32m    319\u001b[0m \u001b[43m    \u001b[49m\u001b[38;5;28;43mself\u001b[39;49m\u001b[38;5;241;43m.\u001b[39;49m\u001b[43mcols\u001b[49m\u001b[43m,\u001b[49m\n\u001b[0;32m    320\u001b[0m \u001b[43m    \u001b[49m\u001b[38;5;28;43mself\u001b[39;49m\u001b[38;5;241;43m.\u001b[39;49m\u001b[43mwriter\u001b[49m\u001b[43m,\u001b[49m\n\u001b[0;32m    321\u001b[0m \u001b[43m\u001b[49m\u001b[43m)\u001b[49m\n",
      "File \u001b[1;32mc:\\Users\\Antoine\\miniconda3\\envs\\ML\\lib\\site-packages\\pandas\\_libs\\writers.pyx:72\u001b[0m, in \u001b[0;36mpandas._libs.writers.write_csv_rows\u001b[1;34m()\u001b[0m\n",
      "\u001b[1;31mError\u001b[0m: need to escape, but no escapechar set"
     ]
    }
   ],
   "source": [
    "df.to_csv('cleaned_recipe_data.csv', index=False)\n"
   ]
  },
  {
   "cell_type": "code",
   "execution_count": null,
   "id": "97d51572-aef4-4ecc-a6e1-3aa3e97b2c5d",
   "metadata": {},
   "outputs": [],
   "source": [
    "#Lowercasing for Consistency\n",
    "#Lowercasing the title, ingredients, and directions columns will standardize the text, which can help during model training by reducing vocabulary size."
   ]
  },
  {
   "cell_type": "code",
   "execution_count": null,
   "id": "76d0d73f-17da-416d-b7cb-418b9eaef61b",
   "metadata": {},
   "outputs": [],
   "source": [
    "df['title'] = df['title'].str.lower()\n",
    "df['ingredients'] = df['ingredients'].str.lower()\n",
    "df['directions'] = df['directions'].str.lower()\n"
   ]
  },
  {
   "cell_type": "code",
   "execution_count": null,
   "id": "d3623fde-41fb-4461-8002-b8b8655b7cdf",
   "metadata": {},
   "outputs": [],
   "source": [
    "#Removing Special Characters and Extra Spaces"
   ]
  },
  {
   "cell_type": "code",
   "execution_count": null,
   "id": "c8abac1f-1a20-4739-bb9f-81b38bb0d019",
   "metadata": {},
   "outputs": [],
   "source": [
    "# Remove special characters and extra spaces\n",
    "df['ingredients'] = df['ingredients'].apply(lambda x: re.sub(r'\\s+', ' ', re.sub(r'[^\\w\\s]', '', x)).strip())\n",
    "df['directions'] = df['directions'].apply(lambda x: re.sub(r'\\s+', ' ', re.sub(r'[^\\w\\s]', '', x)).strip())\n"
   ]
  },
  {
   "cell_type": "code",
   "execution_count": null,
   "id": "f9994a35-941c-49f0-9f94-310648b6f616",
   "metadata": {},
   "outputs": [],
   "source": [
    "#Remove Duplicate Rows"
   ]
  },
  {
   "cell_type": "code",
   "execution_count": null,
   "id": "dd7753db-4a5b-4b27-9e1f-9bb445372f8a",
   "metadata": {},
   "outputs": [],
   "source": [
    "df.drop_duplicates(inplace=True)\n"
   ]
  },
  {
   "cell_type": "code",
   "execution_count": null,
   "id": "4a80cd67-a9de-4d08-9cc8-4a41bc320e7f",
   "metadata": {},
   "outputs": [
    {
     "name": "stdout",
     "output_type": "stream",
     "text": [
      "\n",
      "Random sample from cleaned data:\n"
     ]
    },
    {
     "data": {
      "text/html": [
       "<div>\n",
       "<style scoped>\n",
       "    .dataframe tbody tr th:only-of-type {\n",
       "        vertical-align: middle;\n",
       "    }\n",
       "\n",
       "    .dataframe tbody tr th {\n",
       "        vertical-align: top;\n",
       "    }\n",
       "\n",
       "    .dataframe thead th {\n",
       "        text-align: right;\n",
       "    }\n",
       "</style>\n",
       "<table border=\"1\" class=\"dataframe\">\n",
       "  <thead>\n",
       "    <tr style=\"text-align: right;\">\n",
       "      <th></th>\n",
       "      <th>Unnamed: 0</th>\n",
       "      <th>title</th>\n",
       "      <th>ingredients</th>\n",
       "      <th>directions</th>\n",
       "      <th>link</th>\n",
       "      <th>source</th>\n",
       "      <th>NER</th>\n",
       "    </tr>\n",
       "  </thead>\n",
       "  <tbody>\n",
       "    <tr>\n",
       "      <th>794547</th>\n",
       "      <td>794547</td>\n",
       "      <td>White Mountain Icing</td>\n",
       "      <td>1 c white sugar 12 c white Karo syrup 14 c wat...</td>\n",
       "      <td>Mix all ingredients together Let boil until it...</td>\n",
       "      <td>www.cookbooks.com/Recipe-Details.aspx?id=968441</td>\n",
       "      <td>Gathered</td>\n",
       "      <td>[\"white sugar\", \"white Karo syrup\", \"water\", \"...</td>\n",
       "    </tr>\n",
       "    <tr>\n",
       "      <th>1621572</th>\n",
       "      <td>1621572</td>\n",
       "      <td>Linguica</td>\n",
       "      <td>1 12 teaspoons salt 14 teaspoon black pepper 2...</td>\n",
       "      <td>Knead pork and pork fat together Mix other ing...</td>\n",
       "      <td>www.yummly.com/recipe/Linguica-1663794</td>\n",
       "      <td>Gathered</td>\n",
       "      <td>[\"salt\", \"black pepper\", \"sweet paprika\", \"ros...</td>\n",
       "    </tr>\n",
       "    <tr>\n",
       "      <th>1600715</th>\n",
       "      <td>1600715</td>\n",
       "      <td>Chocolate Peanutbutter Cupcakes</td>\n",
       "      <td>1 12 cups all purpose flour Pillsbury BEST coc...</td>\n",
       "      <td>Heat oven to 350u00b0F Place paper baking cup ...</td>\n",
       "      <td>www.yummly.com/recipe/Chocolate-Peanutbutter-C...</td>\n",
       "      <td>Gathered</td>\n",
       "      <td>[\"flour\", \"cocoa\", \"brown sugar\", \"baking soda...</td>\n",
       "    </tr>\n",
       "    <tr>\n",
       "      <th>1291185</th>\n",
       "      <td>1291185</td>\n",
       "      <td>Raspberry Lemonade</td>\n",
       "      <td>8 lemon slices 8 fresh raspberries 8 fresh min...</td>\n",
       "      <td>Thread 1 lemon slice 1 raspberry and 1 mint sp...</td>\n",
       "      <td>www.epicurious.com/recipes/member/views/raspbe...</td>\n",
       "      <td>Gathered</td>\n",
       "      <td>[\"lemon slices\", \"fresh raspberries\", \"mint sp...</td>\n",
       "    </tr>\n",
       "    <tr>\n",
       "      <th>653266</th>\n",
       "      <td>653266</td>\n",
       "      <td>Velvety Custard Pie</td>\n",
       "      <td>4 slightly beaten eggs 12 c sugar 14 tsp salt ...</td>\n",
       "      <td>Thoroughly mix eggs sugar salt and vanilla Slo...</td>\n",
       "      <td>www.cookbooks.com/Recipe-Details.aspx?id=975180</td>\n",
       "      <td>Gathered</td>\n",
       "      <td>[\"eggs\", \"sugar\", \"salt\", \"vanilla\", \"milk\", \"...</td>\n",
       "    </tr>\n",
       "  </tbody>\n",
       "</table>\n",
       "</div>"
      ],
      "text/plain": [
       "         Unnamed: 0                            title  \\\n",
       "794547       794547             White Mountain Icing   \n",
       "1621572     1621572                         Linguica   \n",
       "1600715     1600715  Chocolate Peanutbutter Cupcakes   \n",
       "1291185     1291185              Raspberry Lemonade    \n",
       "653266       653266              Velvety Custard Pie   \n",
       "\n",
       "                                               ingredients  \\\n",
       "794547   1 c white sugar 12 c white Karo syrup 14 c wat...   \n",
       "1621572  1 12 teaspoons salt 14 teaspoon black pepper 2...   \n",
       "1600715  1 12 cups all purpose flour Pillsbury BEST coc...   \n",
       "1291185  8 lemon slices 8 fresh raspberries 8 fresh min...   \n",
       "653266   4 slightly beaten eggs 12 c sugar 14 tsp salt ...   \n",
       "\n",
       "                                                directions  \\\n",
       "794547   Mix all ingredients together Let boil until it...   \n",
       "1621572  Knead pork and pork fat together Mix other ing...   \n",
       "1600715  Heat oven to 350u00b0F Place paper baking cup ...   \n",
       "1291185  Thread 1 lemon slice 1 raspberry and 1 mint sp...   \n",
       "653266   Thoroughly mix eggs sugar salt and vanilla Slo...   \n",
       "\n",
       "                                                      link    source  \\\n",
       "794547     www.cookbooks.com/Recipe-Details.aspx?id=968441  Gathered   \n",
       "1621572             www.yummly.com/recipe/Linguica-1663794  Gathered   \n",
       "1600715  www.yummly.com/recipe/Chocolate-Peanutbutter-C...  Gathered   \n",
       "1291185  www.epicurious.com/recipes/member/views/raspbe...  Gathered   \n",
       "653266     www.cookbooks.com/Recipe-Details.aspx?id=975180  Gathered   \n",
       "\n",
       "                                                       NER  \n",
       "794547   [\"white sugar\", \"white Karo syrup\", \"water\", \"...  \n",
       "1621572  [\"salt\", \"black pepper\", \"sweet paprika\", \"ros...  \n",
       "1600715  [\"flour\", \"cocoa\", \"brown sugar\", \"baking soda...  \n",
       "1291185  [\"lemon slices\", \"fresh raspberries\", \"mint sp...  \n",
       "653266   [\"eggs\", \"sugar\", \"salt\", \"vanilla\", \"milk\", \"...  "
      ]
     },
     "metadata": {},
     "output_type": "display_data"
    }
   ],
   "source": [
    "print(\"\\nRandom sample from cleaned data:\")\n",
    "display(df.sample(5))"
   ]
  },
  {
   "cell_type": "code",
   "execution_count": null,
   "id": "17b634cc-4fa8-4735-a57f-b220ebd89c24",
   "metadata": {},
   "outputs": [],
   "source": []
  },
  {
   "cell_type": "code",
   "execution_count": null,
   "id": "2da2c0ea-b66c-4399-9882-a1d6d0233023",
   "metadata": {},
   "outputs": [],
   "source": []
  }
 ],
 "metadata": {
  "kernelspec": {
   "display_name": "ML",
   "language": "python",
   "name": "python3"
  },
  "language_info": {
   "codemirror_mode": {
    "name": "ipython",
    "version": 3
   },
   "file_extension": ".py",
   "mimetype": "text/x-python",
   "name": "python",
   "nbconvert_exporter": "python",
   "pygments_lexer": "ipython3",
   "version": "3.10.11"
  }
 },
 "nbformat": 4,
 "nbformat_minor": 5
}
