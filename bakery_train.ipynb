{
 "cells": [
  {
   "cell_type": "code",
   "execution_count": 6,
   "id": "99063159-d856-452e-bafc-42d7e1dc25fd",
   "metadata": {},
   "outputs": [],
   "source": [
    "import pandas as pd\n",
    "\n",
    "data = pd.read_csv('bakery_train_dataset.csv')"
   ]
  },
  {
   "cell_type": "code",
   "execution_count": 7,
   "id": "b26fba09-c4f9-4f30-b4b3-501c5400b6a8",
   "metadata": {},
   "outputs": [
    {
     "name": "stdout",
     "output_type": "stream",
     "text": [
      "Text file prepared: bakery_for_finetuning.txt\n"
     ]
    }
   ],
   "source": [
    "# Prepare a plain-text file for GPT-2 fine-tuning\n",
    "with open('bakery_for_finetuning.txt', 'w', encoding='utf-8') as f:\n",
    "    for _, row in data.iterrows():\n",
    "        # Assuming the recipe text is in a column named \"directions\"\n",
    "        if pd.notna(row['directions']):  # Skip NaN values\n",
    "            f.write(row['directions'] + '\\n<|endoftext|>\\n')\n",
    "\n",
    "print(\"Text file prepared: bakery_for_finetuning.txt\")"
   ]
  },
  {
   "cell_type": "code",
   "execution_count": 8,
   "id": "dc3de91a-1e2b-4228-9935-8d2ed30710dc",
   "metadata": {},
   "outputs": [
    {
     "name": "stdout",
     "output_type": "stream",
     "text": [
      "Accelerate version: 1.1.1\n",
      "Huggingface Hub version: 0.26.2\n"
     ]
    }
   ],
   "source": [
    "import accelerate\n",
    "import huggingface_hub\n",
    "\n",
    "print(\"Accelerate version:\", accelerate.__version__)\n",
    "print(\"Huggingface Hub version:\", huggingface_hub.__version__)"
   ]
  },
  {
   "cell_type": "code",
   "execution_count": 9,
   "id": "861a440b-d02b-4720-8c26-69ac04efb6ae",
   "metadata": {},
   "outputs": [
    {
     "name": "stderr",
     "output_type": "stream",
     "text": [
      "/home/hrithik/myenv/lib/python3.10/site-packages/transformers/data/datasets/language_modeling.py:53: FutureWarning: This dataset will be removed from the library soon, preprocessing should be handled with the 🤗 Datasets library. You can have a look at this example script for pointers: https://github.com/huggingface/transformers/blob/main/examples/pytorch/language-modeling/run_mlm.py\n",
      "  warnings.warn(\n",
      "/home/hrithik/myenv/lib/python3.10/site-packages/transformers/training_args.py:1568: FutureWarning: `evaluation_strategy` is deprecated and will be removed in version 4.46 of 🤗 Transformers. Use `eval_strategy` instead\n",
      "  warnings.warn(\n"
     ]
    },
    {
     "data": {
      "text/html": [
       "\n",
       "    <div>\n",
       "      \n",
       "      <progress value='1010' max='1010' style='width:300px; height:20px; vertical-align: middle;'></progress>\n",
       "      [1010/1010 28:41, Epoch 1/2]\n",
       "    </div>\n",
       "    <table border=\"1\" class=\"dataframe\">\n",
       "  <thead>\n",
       " <tr style=\"text-align: left;\">\n",
       "      <th>Step</th>\n",
       "      <th>Training Loss</th>\n",
       "    </tr>\n",
       "  </thead>\n",
       "  <tbody>\n",
       "    <tr>\n",
       "      <td>500</td>\n",
       "      <td>2.633400</td>\n",
       "    </tr>\n",
       "    <tr>\n",
       "      <td>1000</td>\n",
       "      <td>2.440600</td>\n",
       "    </tr>\n",
       "  </tbody>\n",
       "</table><p>"
      ],
      "text/plain": [
       "<IPython.core.display.HTML object>"
      ]
     },
     "metadata": {},
     "output_type": "display_data"
    },
    {
     "name": "stdout",
     "output_type": "stream",
     "text": [
      "Fine-tuning complete. Model saved to './gpt2-finetuned-recipes-bakery'\n"
     ]
    }
   ],
   "source": [
    "from transformers import GPT2LMHeadModel, GPT2Tokenizer, TextDataset, DataCollatorForLanguageModeling, Trainer, TrainingArguments\n",
    "\n",
    "# Load GPT-2 tokenizer and model\n",
    "model_name = './gpt2-finetuned-recipes-main'  # Use the small GPT-2 model to fit your hardware\n",
    "tokenizer = GPT2Tokenizer.from_pretrained(model_name)\n",
    "model = GPT2LMHeadModel.from_pretrained(model_name)\n",
    "\n",
    "# Prepare the text dataset for fine-tuning\n",
    "train_path = 'bakery_for_finetuning.txt'\n",
    "dataset = TextDataset(\n",
    "    tokenizer=tokenizer,\n",
    "    file_path=train_path,\n",
    "    block_size=64  # Max token length for each training sample\n",
    ")\n",
    "data_collator = DataCollatorForLanguageModeling(\n",
    "    tokenizer=tokenizer, mlm=False  # Disable masked language modeling for GPT-2\n",
    ")\n",
    "\n",
    "# Define training arguments\n",
    "training_args = TrainingArguments(\n",
    "    output_dir='./gpt2-finetuned-recipes-bakery',  # Where to save the model\n",
    "    overwrite_output_dir=True,\n",
    "    num_train_epochs=2,  # Number of training epochs\n",
    "    per_device_train_batch_size=2,  # Small batch size for memory efficiency\n",
    "    gradient_accumulation_steps=4,\n",
    "    save_steps=1000,\n",
    "    save_total_limit=1,\n",
    "    logging_dir='./logs',  # Directory for logs\n",
    "    logging_steps=500,\n",
    "    evaluation_strategy=\"no\",  # No validation during training\n",
    "    fp16=False,  # Disable mixed precision for MPS\n",
    ")\n",
    "\n",
    "# Set up the Trainer\n",
    "trainer = Trainer(\n",
    "    model=model,\n",
    "    args=training_args,\n",
    "    train_dataset=dataset,\n",
    "    data_collator=data_collator,\n",
    ")\n",
    "\n",
    "# Train the model\n",
    "trainer.train()\n",
    "\n",
    "# Save the fine-tuned model and tokenizer\n",
    "model.save_pretrained('./gpt2-finetuned-recipes-bakery')\n",
    "tokenizer.save_pretrained('./gpt2-finetuned-recipes-bakery')\n",
    "\n",
    "print(\"Fine-tuning complete. Model saved to './gpt2-finetuned-recipes-bakery'\")"
   ]
  },
  {
   "cell_type": "code",
   "execution_count": null,
   "id": "b66f9875-4f65-44e2-8d3f-47495b41d6c6",
   "metadata": {},
   "outputs": [],
   "source": []
  }
 ],
 "metadata": {
  "kernelspec": {
   "display_name": "Python 3 (ipykernel)",
   "language": "python",
   "name": "python3"
  },
  "language_info": {
   "codemirror_mode": {
    "name": "ipython",
    "version": 3
   },
   "file_extension": ".py",
   "mimetype": "text/x-python",
   "name": "python",
   "nbconvert_exporter": "python",
   "pygments_lexer": "ipython3",
   "version": "3.10.12"
  }
 },
 "nbformat": 4,
 "nbformat_minor": 5
}
