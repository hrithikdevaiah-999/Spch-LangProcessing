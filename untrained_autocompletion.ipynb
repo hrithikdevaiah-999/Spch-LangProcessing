{
 "cells": [
  {
   "cell_type": "code",
   "execution_count": 10,
   "metadata": {},
   "outputs": [
    {
     "data": {
      "text/plain": [
       "GPT2LMHeadModel(\n",
       "  (transformer): GPT2Model(\n",
       "    (wte): Embedding(50257, 768)\n",
       "    (wpe): Embedding(1024, 768)\n",
       "    (drop): Dropout(p=0.1, inplace=False)\n",
       "    (h): ModuleList(\n",
       "      (0-11): 12 x GPT2Block(\n",
       "        (ln_1): LayerNorm((768,), eps=1e-05, elementwise_affine=True)\n",
       "        (attn): GPT2SdpaAttention(\n",
       "          (c_attn): Conv1D(nf=2304, nx=768)\n",
       "          (c_proj): Conv1D(nf=768, nx=768)\n",
       "          (attn_dropout): Dropout(p=0.1, inplace=False)\n",
       "          (resid_dropout): Dropout(p=0.1, inplace=False)\n",
       "        )\n",
       "        (ln_2): LayerNorm((768,), eps=1e-05, elementwise_affine=True)\n",
       "        (mlp): GPT2MLP(\n",
       "          (c_fc): Conv1D(nf=3072, nx=768)\n",
       "          (c_proj): Conv1D(nf=768, nx=3072)\n",
       "          (act): NewGELUActivation()\n",
       "          (dropout): Dropout(p=0.1, inplace=False)\n",
       "        )\n",
       "      )\n",
       "    )\n",
       "    (ln_f): LayerNorm((768,), eps=1e-05, elementwise_affine=True)\n",
       "  )\n",
       "  (lm_head): Linear(in_features=768, out_features=50257, bias=False)\n",
       ")"
      ]
     },
     "execution_count": 10,
     "metadata": {},
     "output_type": "execute_result"
    }
   ],
   "source": [
    "import torch\n",
    "import pandas as pd\n",
    "from transformers import GPT2LMHeadModel, GPT2Tokenizer\n",
    "\n",
    "# Load the pre-trained model and tokenizer\n",
    "model_name = 'gpt2'  # You can choose a different model if desired\n",
    "tokenizer = GPT2Tokenizer.from_pretrained(model_name)\n",
    "letemcook = GPT2LMHeadModel.from_pretrained(model_name)\n",
    "\n",
    "# Set the model to evaluation mode\n",
    "letemcook.eval()\n"
   ]
  },
  {
   "cell_type": "code",
   "execution_count": 53,
   "metadata": {},
   "outputs": [],
   "source": [
    "# Function to generate text completion\n",
    "def generate_completion(model, prompt, max_length=20):\n",
    "    # Encode the input prompt\n",
    "    inputs = tokenizer.encode(prompt, return_tensors='pt')\n",
    "    # Generate output\n",
    "    with torch.no_grad():\n",
    "        outputs = model.generate(inputs, max_new_tokens=max_length, min_length = 3, temperature=0.99, do_sample=True)\n",
    "\n",
    "    # Decode the generated output\n",
    "    completion = tokenizer.decode(outputs[0], skip_special_tokens=True)\n",
    "    return completion\n",
    "\n",
    "def autocomplete_recipe_step(model, title, ingredients, complete_instruction_steps, incomplete_instruction_steps, print_prompt = False):\n",
    "    pre_prompt = \"You are a chef-bot autocompleting a small part of a recipe: [START_OF_RECIPE] \"\n",
    "    title_prompt = f\"[RECIPE_TITLE] {title} \" \n",
    "    ingredients_prompt = f\"[INGREDIENTS_LIST] {ingredients} \" \n",
    "    \n",
    "    instructions_prompt = f\"[STEPS] \"\n",
    "    for i, step in enumerate(complete_instruction_steps):\n",
    "        instructions_prompt += f\"{i + 1} - {step} \"\n",
    "    instructions_prompt += \" {DO NOT CREATE ANOTHER STEP AFTER STEP 3} \" + f\"{len(complete_instruction_steps) + 1} - {incomplete_instruction_steps}\"\n",
    "    \n",
    "    # prompt = pre_prompt + title_prompt + ingredients_prompt + instructions_prompt\n",
    "    prompt = pre_prompt + instructions_prompt\n",
    "    if print_prompt: print(prompt)\n",
    "    return generate_completion(model, prompt)\n",
    "\n",
    "\n",
    "def convert_string_to_list(input_string):\n",
    "    clean_string = input_string.strip('[]')\n",
    "    return [s.strip().strip('\"') for s in clean_string.split('\", \"')] # assuming this is always a good split\n",
    "\n",
    "def index_of_instruction_word(text, n):\n",
    "    words = text.split()\n",
    "    \n",
    "    if n > len(words):\n",
    "        return 0    \n",
    "    \n",
    "    position = 0\n",
    "    for word in words[:n-1]:\n",
    "        position += len(word) + 1 \n",
    "    \n",
    "    return position\n",
    "\n",
    "\n",
    "from IPython.display import display, HTML\n",
    "def display_prompt(text):\n",
    "    display(HTML(f\"<h1>Prompt</h1><p>{text}</p>\"))"
   ]
  },
  {
   "cell_type": "code",
   "execution_count": 54,
   "metadata": {},
   "outputs": [],
   "source": [
    "# Change nrows if desired\n",
    "df = pd.read_csv('NLG_subset.csv', nrows=5)"
   ]
  },
  {
   "cell_type": "code",
   "execution_count": null,
   "metadata": {},
   "outputs": [],
   "source": [
    "def separate_recipe_components(recipe_index, n_complete_steps=2, n_words_before_autocomplete=3):\n",
    "\n",
    "    test_rec = df.iloc[recipe_index, :]\n",
    "\n",
    "    title = test_rec[\"title\"]\n",
    "    ingredients = test_rec[\"ingredients\"]\n",
    "\n",
    "    steps = convert_string_to_list(test_rec[\"directions\"])\n",
    "    complete_steps = steps[:n_complete_steps - 1]\n",
    "\n",
    "    if len(steps) < n_complete_steps: return title, ingredients, complete_steps, steps[len(steps)-1], steps[len(steps)-1]\n",
    "\n",
    "    true_step = steps[n_complete_steps]\n",
    "    n_characters_before_autocomplete = index_of_instruction_word(true_step, n_words_before_autocomplete) # Not used for now\n",
    "\n",
    "    n_characters_before_autocomplete = 6 # Hardcoded for now\n",
    "    incomplete_instruction_step = true_step[0:n_characters_before_autocomplete]\n",
    "    \n",
    "\n",
    "    #print(f\"Autocompleting the instruction step starting with: {incomplete_instruction_step}\")\n",
    "    #print(f\"TRUE STEP: {true_step}\")\n",
    "    \n",
    "    return title, ingredients, complete_steps, incomplete_instruction_step, true_step\n"
   ]
  },
  {
   "cell_type": "code",
   "execution_count": null,
   "metadata": {},
   "outputs": [
    {
     "name": "stderr",
     "output_type": "stream",
     "text": [
      "The attention mask and the pad token id were not set. As a consequence, you may observe unexpected behavior. Please pass your input's `attention_mask` to obtain reliable results.\n",
      "Setting `pad_token_id` to `eos_token_id`:None for open-end generation.\n",
      "The attention mask and the pad token id were not set. As a consequence, you may observe unexpected behavior. Please pass your input's `attention_mask` to obtain reliable results.\n",
      "Setting `pad_token_id` to `eos_token_id`:None for open-end generation.\n",
      "The attention mask and the pad token id were not set. As a consequence, you may observe unexpected behavior. Please pass your input's `attention_mask` to obtain reliable results.\n",
      "Setting `pad_token_id` to `eos_token_id`:None for open-end generation.\n",
      "The attention mask and the pad token id were not set. As a consequence, you may observe unexpected behavior. Please pass your input's `attention_mask` to obtain reliable results.\n",
      "Setting `pad_token_id` to `eos_token_id`:None for open-end generation.\n",
      "The attention mask and the pad token id were not set. As a consequence, you may observe unexpected behavior. Please pass your input's `attention_mask` to obtain reliable results.\n",
      "Setting `pad_token_id` to `eos_token_id`:None for open-end generation.\n"
     ]
    }
   ],
   "source": [
    "recipes = df.index.tolist()\n",
    "results = []\n",
    "\n",
    "for recipe_index in recipes:\n",
    "\n",
    "    # Mess around with n_complete_steps and n_words_before_autcomplete    \n",
    "    title, ingredients, complete_steps, incomplete_instruction_step, true_step = separate_recipe_components(recipe_index, n_complete_steps=2, n_words_before_autocomplete=4)\n",
    "    autocompleted_step = autocomplete_recipe_step(letemcook, title, ingredients, complete_steps, incomplete_instruction_step)\n",
    "    \n",
    "    results.append((incomplete_instruction_step, true_step, autocompleted_step))"
   ]
  },
  {
   "cell_type": "code",
   "execution_count": 65,
   "metadata": {},
   "outputs": [
    {
     "name": "stdout",
     "output_type": "stream",
     "text": [
      "--------------------------------------------------------------------------------\n",
      "Autocompleting the instruction step starting with: Boil a\n",
      "TRUE STEP: Boil and stir 5 minutes more. Take off heat.\n"
     ]
    },
    {
     "data": {
      "text/html": [
       "<h1>Prompt</h1><p>You are a chef-bot autocompleting a small part of a recipe: [START_OF_RECIPE] [STEPS] 1 - In a heavy 2-quart saucepan, mix brown sugar, nuts, evaporated milk and butter or margarine.  {DO NOT CREATE ANOTHER STEP AFTER STEP 3} 2 - Boil a canola. Use a heavy, heavy pot, sauteing salt and water. 3 - Using</p>"
      ],
      "text/plain": [
       "<IPython.core.display.HTML object>"
      ]
     },
     "metadata": {},
     "output_type": "display_data"
    },
    {
     "name": "stdout",
     "output_type": "stream",
     "text": [
      "--------------------------------------------------------------------------------\n",
      "Autocompleting the instruction step starting with: Mix so\n",
      "TRUE STEP: Mix soup and cream together; pour over chicken. Bake, uncovered, at 275\\u00b0 for 3 hours.\n"
     ]
    },
    {
     "data": {
      "text/html": [
       "<h1>Prompt</h1><p>You are a chef-bot autocompleting a small part of a recipe: [START_OF_RECIPE] [STEPS] 1 - Place chipped beef on bottom of baking dish.  {DO NOT CREATE ANOTHER STEP AFTER STEP 3} 2 - Mix so the beef is not overcooked. [HIP_BACK] 3 - Place a cup of ch</p>"
      ],
      "text/plain": [
       "<IPython.core.display.HTML object>"
      ]
     },
     "metadata": {},
     "output_type": "display_data"
    },
    {
     "name": "stdout",
     "output_type": "stream",
     "text": [
      "--------------------------------------------------------------------------------\n",
      "Autocompleting the instruction step starting with: In a slow cooker, combine all ingredients. Cover and cook on low for 4 hours or until heated through and cheese is melted. Stir well before serving. Yields 6 servings.\n",
      "TRUE STEP: In a slow cooker, combine all ingredients. Cover and cook on low for 4 hours or until heated through and cheese is melted. Stir well before serving. Yields 6 servings.\n"
     ]
    },
    {
     "data": {
      "text/html": [
       "<h1>Prompt</h1><p>You are a chef-bot autocompleting a small part of a recipe: [START_OF_RECIPE] [STEPS] 1 - In a slow cooker, combine all ingredients. Cover and cook on low for 4 hours or until heated through and cheese is melted. Stir well before serving. Yields 6 servings.  {DO NOT CREATE ANOTHER STEP AFTER STEP 3} 2 - In a slow cooker, combine all ingredients. Cover and cook on low for 4 hours or until heated through and cheese is melted. Stir well before serving. Yields 6 servings. {DO NOT CREATE ANOTHER STEP AFTER STEP 3} 3 - In a slow cooker, combine</p>"
      ],
      "text/plain": [
       "<IPython.core.display.HTML object>"
      ]
     },
     "metadata": {},
     "output_type": "display_data"
    },
    {
     "name": "stdout",
     "output_type": "stream",
     "text": [
      "--------------------------------------------------------------------------------\n",
      "Autocompleting the instruction step starting with: Pour g\n",
      "TRUE STEP: Pour gravy and cream of mushroom soup over chicken; level.\n"
     ]
    },
    {
     "data": {
      "text/html": [
       "<h1>Prompt</h1><p>You are a chef-bot autocompleting a small part of a recipe: [START_OF_RECIPE] [STEPS] 1 - Boil and debone chicken.  {DO NOT CREATE ANOTHER STEP AFTER STEP 3} 2 - Pour ghee into pot. 3 - Add soy sauce 2.   - Boil chicken 3. </p>"
      ],
      "text/plain": [
       "<IPython.core.display.HTML object>"
      ]
     },
     "metadata": {},
     "output_type": "display_data"
    },
    {
     "name": "stdout",
     "output_type": "stream",
     "text": [
      "--------------------------------------------------------------------------------\n",
      "Autocompleting the instruction step starting with: Keep i\n",
      "TRUE STEP: Keep in refrigerator.\n"
     ]
    },
    {
     "data": {
      "text/html": [
       "<h1>Prompt</h1><p>You are a chef-bot autocompleting a small part of a recipe: [START_OF_RECIPE] [STEPS] 1 - Combine first four ingredients and press in 13 x 9-inch ungreased pan.  {DO NOT CREATE ANOTHER STEP AFTER STEP 3} 2 - Keep i.e. ingredients on the b.x. plate while adding ingredients to your first plate. </p>"
      ],
      "text/plain": [
       "<IPython.core.display.HTML object>"
      ]
     },
     "metadata": {},
     "output_type": "display_data"
    }
   ],
   "source": [
    "for result in results:\n",
    "    print(\"-\" * 80)\n",
    "    print(f\"Autocompleting the instruction step starting with: {result[0]}\")\n",
    "    print(f\"TRUE STEP: {result[1]}\")\n",
    "    display_prompt(result[2])"
   ]
  }
 ],
 "metadata": {
  "kernelspec": {
   "display_name": "Python 3",
   "language": "python",
   "name": "python3"
  },
  "language_info": {
   "codemirror_mode": {
    "name": "ipython",
    "version": 3
   },
   "file_extension": ".py",
   "mimetype": "text/x-python",
   "name": "python",
   "nbconvert_exporter": "python",
   "pygments_lexer": "ipython3",
   "version": "3.12.7"
  }
 },
 "nbformat": 4,
 "nbformat_minor": 2
}
