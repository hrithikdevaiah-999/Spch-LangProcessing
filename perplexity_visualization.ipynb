{
 "cells": [
  {
   "cell_type": "code",
   "execution_count": null,
   "metadata": {},
   "outputs": [],
   "source": [
    "from training_and_evaluation_functions import get_datasets, split_datasets, add_dangerous_data, train_model, eval_perplexity, save_scores"
   ]
  },
  {
   "cell_type": "code",
   "execution_count": null,
   "metadata": {},
   "outputs": [],
   "source": [
    "# We want to display a matrix of perplexity scores for the two principal features (train_dataset, test_dataset)\n",
    "base_model = \"something\"\n",
    "\n",
    "datasets = get_datasets(recipe_categories=[\"drinks\", \"bakery\"])\n",
    "train_datasets, test_datasets = split_datasets(datasets)\n",
    "\n",
    "train_datasets = [None] + train_datasets\n",
    "test_datasets = add_dangerous_data(test_datasets)\n",
    "\n",
    "for train_dataset_index, train_data in enumerate(train_datasets):\n",
    "\n",
    "    if train_data == None:\n",
    "        trained_model = base_model\n",
    "    else: \n",
    "        trained_model = train_model(base_model, train_datasets)\n",
    "        \n",
    "    scores = []\n",
    "    for test_dataset_index, test_data in enumerate(test_datasets):\n",
    "        eval_perplexity(trained_model, test_data)\n",
    "    save_scores(scores)    "
   ]
  }
 ],
 "metadata": {
  "kernelspec": {
   "display_name": "ML",
   "language": "python",
   "name": "python3"
  },
  "language_info": {
   "name": "python",
   "version": "3.10.11"
  }
 },
 "nbformat": 4,
 "nbformat_minor": 2
}
