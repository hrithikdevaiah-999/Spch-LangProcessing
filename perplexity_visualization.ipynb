{
 "cells": [
  {
   "cell_type": "code",
   "execution_count": 1,
   "metadata": {},
   "outputs": [
    {
     "name": "stderr",
     "output_type": "stream",
     "text": [
      "c:\\Users\\Antoine\\miniconda3\\envs\\ML\\lib\\site-packages\\tqdm\\auto.py:21: TqdmWarning: IProgress not found. Please update jupyter and ipywidgets. See https://ipywidgets.readthedocs.io/en/stable/user_install.html\n",
      "  from .autonotebook import tqdm as notebook_tqdm\n"
     ]
    }
   ],
   "source": [
    "import csv\n",
    "\n",
    "from training_and_evaluation_functions import get_datasets, split_datasets, add_dangerous_data, train_model, eval_perplexity, save_scores"
   ]
  },
  {
   "cell_type": "code",
   "execution_count": 2,
   "metadata": {},
   "outputs": [],
   "source": [
    "saved_perplexity_file = \"saved_perplexity.csv\"\n",
    "\n",
    "with open(saved_perplexity_file, mode='w', newline='') as file:\n",
    "    writer = csv.DictWriter(file, fieldnames=[\"recipe_train_index\", \"datetime\", \"1\", \"2\", \"3\"])\n",
    "    writer.writeheader()  # Write the column names\n"
   ]
  },
  {
   "cell_type": "code",
   "execution_count": null,
   "metadata": {},
   "outputs": [],
   "source": [
    "import shutil\n",
    "import os\n",
    "import datetime\n",
    "\n",
    "\n",
    "def backup_file(source_file, backup_folder):\n",
    "    current_date = datetime.now().strftime('%Y-%m-%d')\n",
    "    backup_file = os.path.join(backup_folder, f'perplexities_{current_date}.txt')\n",
    "    shutil.copy(source_file, backup_file)"
   ]
  },
  {
   "cell_type": "code",
   "execution_count": null,
   "metadata": {},
   "outputs": [],
   "source": [
    "# We want to display a matrix of perplexity scores for the two principal features (train_dataset, test_dataset)\n",
    "base_model = \"something\"\n",
    "\n",
    "datasets = get_datasets(recipe_categories=[\"drinks\", \"bakery\"])\n",
    "train_datasets, test_datasets = split_datasets(datasets)\n",
    "\n",
    "train_datasets = [None] + train_datasets\n",
    "test_datasets = add_dangerous_data(test_datasets)\n",
    "\n",
    "for train_dataset_index, train_data in enumerate(train_datasets):\n",
    "\n",
    "    if train_data == None:\n",
    "        trained_model = base_model\n",
    "    else: \n",
    "        trained_model = train_model(base_model, train_datasets)\n",
    "        \n",
    "    scores = []\n",
    "    for test_dataset_index, test_data in enumerate(test_datasets):\n",
    "        eval_perplexity(trained_model, test_data)\n",
    "    save_scores(train_dataset_index, scores)\n",
    "    \n",
    "backup_file(saved_perplexity_file, \"saved_perplexities\")"
   ]
  }
 ],
 "metadata": {
  "kernelspec": {
   "display_name": "ML",
   "language": "python",
   "name": "python3"
  },
  "language_info": {
   "codemirror_mode": {
    "name": "ipython",
    "version": 3
   },
   "file_extension": ".py",
   "mimetype": "text/x-python",
   "name": "python",
   "nbconvert_exporter": "python",
   "pygments_lexer": "ipython3",
   "version": "3.10.11"
  }
 },
 "nbformat": 4,
 "nbformat_minor": 2
}
